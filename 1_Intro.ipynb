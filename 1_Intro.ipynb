{
 "cells": [
  {
   "attachments": {},
   "cell_type": "markdown",
   "metadata": {},
   "source": [
    "# Introduction to Machine Learning\n",
    "\n",
    "The following notebook is a concise summary of \"Introduction to Machine Learning\" - the 1st course in [Google's Machine Learning Series](https://developers.google.com/machine-learning). "
   ]
  },
  {
   "attachments": {},
   "cell_type": "markdown",
   "metadata": {},
   "source": [
    "## What is machine learning? \n",
    "\n",
    "Machine Learning (ML) involves training a model to make relevant predictions. Models are created from large amounts of input data, and use of the mathematical relationships between elements in datasets to make  predictions.  \n",
    "\n",
    "## Types of ML systems\n",
    "\n",
    "There are 3 main types of ML systems, divided according to how they are trained to make their predictions. \n",
    "\n",
    "### 1. Supervised learning \n",
    "\n",
    "With supervised learning, models are trained on large datasets with correct answers provided. \n",
    "\n",
    "There are 5 core concepts that form the basis of supervised learning:\n",
    "* Data. This includes labels (the values models predict) and features (characteristics; values a model uses to predict labels). The best datasets for ML are large & highly diverse. \n",
    "<img src=\"https://developers.google.com/static/machine-learning/intro-to-ml/images/labeled_example.png\" alt=\"labels and features\" width=\"70%\" height=\"80%\">\n",
    "\n",
    "* Model. This is what figures out patterns between elements during the training process.\n",
    "* Training. This is the process of developing a model. \n",
    "* Evaluating/Testing. This involves comparing model predictions to actual (labelled) values from a dataset.\n",
    "* Inference. This involves using the model on unlabelled data. \n",
    "\n",
    "There are two common use cases for supervised learning:\n",
    "* Regression models output numeric values (e.g. the price of a house or time required to arrive at a destination). \n",
    "* Classification models (both binary and multiclass) predict the probability that an element belongs to a particular category, and outputs the category with the highest likelihood (e.g. whether or not it will rain tomorrow). \n",
    "\n",
    "[comment]: (![space](https://static01.nyt.com/images/2021/03/12/arts/12nft-buyer-1/12nft-notebook-1-mediumSquareAt3X.jpg))\n",
    "\n",
    "### 2. Unsupervised learning\n",
    "\n",
    "With supervised learning, models are trained on datasets without any answers provided - the model identifies patterns in the data on its own. A common technique employed is \"clustering\" - the model creates groupings from the data, there can be named and interpted by the user. \n",
    "\n",
    "### 3. Reinforcement learning\n",
    "\n",
    "With reinforcement learning, models make predictions based on rewards or penalties and determine the policy that maximizes rewards while minimizing penalties (e.g. AI used to play reversi)."
   ]
  }
 ],
 "metadata": {
  "kernelspec": {
   "display_name": "Python 3",
   "language": "python",
   "name": "python3"
  },
  "language_info": {
   "name": "python",
   "version": "3.10.1 (v3.10.1:2cd268a3a9, Dec  6 2021, 14:28:59) [Clang 13.0.0 (clang-1300.0.29.3)]"
  },
  "orig_nbformat": 4,
  "vscode": {
   "interpreter": {
    "hash": "aee8b7b246df8f9039afb4144a1f6fd8d2ca17a180786b69acc140d282b71a49"
   }
  }
 },
 "nbformat": 4,
 "nbformat_minor": 2
}
